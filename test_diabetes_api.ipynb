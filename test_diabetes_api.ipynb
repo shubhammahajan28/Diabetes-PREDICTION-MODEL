{
 "cells": [
  {
   "cell_type": "code",
   "execution_count": 2,
   "id": "d03bbb3e-3971-44b8-8d67-5e314671ce7f",
   "metadata": {},
   "outputs": [],
   "source": [
    "# !pip install requests==2.32.3"
   ]
  },
  {
   "cell_type": "code",
   "execution_count": 13,
   "id": "c12ad5bf-878a-4fdb-8111-6986ac04ddbc",
   "metadata": {},
   "outputs": [],
   "source": [
    "import requests"
   ]
  },
  {
   "cell_type": "code",
   "execution_count": 14,
   "id": "b52f20c9-414d-48e8-b274-fb0d302cd461",
   "metadata": {},
   "outputs": [],
   "source": [
    "url = \"http://127.0.0.1:5000/predict\""
   ]
  },
  {
   "cell_type": "code",
   "execution_count": 15,
   "id": "974bdb88-1157-4ccc-a70d-9a799888994d",
   "metadata": {},
   "outputs": [],
   "source": [
    "data = {\n",
    "    \"Pregnancies\": 6,\n",
    "    \"Glucose\": 148,\n",
    "    \"BloodPressure\": 72,\n",
    "    \"SkinThickness\": 35,\n",
    "    \"Insulin\": 0,\n",
    "    \"BMI\": 33.6,\n",
    "    \"DiabetesPedigreeFunction\": 0.627,\n",
    "    \"Age\":50\n",
    "}"
   ]
  },
  {
   "cell_type": "code",
   "execution_count": 16,
   "id": "9a8992a4-76ee-40f7-af3e-2569c134ade2",
   "metadata": {},
   "outputs": [],
   "source": [
    "# data = {\n",
    "#     \"Pregnancies\": 6,\n",
    "#     \"Glucose\": 148,\n",
    "#     \"BloodPressure\": 72,\n",
    "#     \"SkinThickness\": 35,\n",
    "#     \"Insulin\": 0,\n",
    "#     \"BMI\": 33.6,\n",
    "#     \"DiabetesPedigreeFunction\": 0.627,\n",
    "# }"
   ]
  },
  {
   "cell_type": "code",
   "execution_count": 17,
   "id": "b5c28e55-fc9c-436c-ac1d-271d107d3d11",
   "metadata": {},
   "outputs": [
    {
     "name": "stdout",
     "output_type": "stream",
     "text": [
      "<Response [200]>\n",
      "{'prediction': 'Diabetes'}\n"
     ]
    }
   ],
   "source": [
    "response = requests.post(url, json=data)\n",
    "print(response)\n",
    "print(response.json())"
   ]
  },
  {
   "cell_type": "code",
   "execution_count": null,
   "id": "6404e674-bd13-45f0-92e1-ea0e609087ba",
   "metadata": {},
   "outputs": [],
   "source": []
  },
  {
   "cell_type": "code",
   "execution_count": null,
   "id": "ba50389c-be16-42b8-a66d-d88eb0a3449f",
   "metadata": {},
   "outputs": [],
   "source": []
  }
 ],
 "metadata": {
  "kernelspec": {
   "display_name": "Python 3 (ipykernel)",
   "language": "python",
   "name": "python3"
  },
  "language_info": {
   "codemirror_mode": {
    "name": "ipython",
    "version": 3
   },
   "file_extension": ".py",
   "mimetype": "text/x-python",
   "name": "python",
   "nbconvert_exporter": "python",
   "pygments_lexer": "ipython3",
   "version": "3.12.5"
  }
 },
 "nbformat": 4,
 "nbformat_minor": 5
}
